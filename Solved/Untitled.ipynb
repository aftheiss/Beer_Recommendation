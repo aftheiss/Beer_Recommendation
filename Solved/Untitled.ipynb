{
 "cells": [
  {
   "cell_type": "code",
   "execution_count": 1,
   "metadata": {},
   "outputs": [
    {
     "name": "stderr",
     "output_type": "stream",
     "text": [
      "C:\\Users\\Donnie\\anaconda3\\lib\\site-packages\\sklearn\\utils\\deprecation.py:143: FutureWarning: The sklearn.datasets.samples_generator module is  deprecated in version 0.22 and will be removed in version 0.24. The corresponding classes / functions should instead be imported from sklearn.datasets. Anything that cannot be imported from sklearn.datasets is now part of the private API.\n",
      "  warnings.warn(message, FutureWarning)\n"
     ]
    }
   ],
   "source": [
    "import matplotlib.pyplot as plt\n",
    "from sklearn.neighbors import KNeighborsClassifier\n",
    "import pandas as pd\n",
    "import os\n",
    "import random as rd\n",
    "import numpy as np\n",
    "from sklearn.datasets.samples_generator import make_blobs\n",
    "from sklearn.cluster import KMeans\n",
    "import warnings\n",
    "warnings.filterwarnings('ignore')\n",
    "\n",
    "\n",
    "\n",
    "import csv\n",
    "import collections          # For OrderedDict\n",
    "import numpy as np\n",
    "import pandas as pd\n",
    "import matplotlib.pyplot as plt\n",
    "import seaborn as sns\n",
    "\n",
    "from scipy.stats import chi2_contingency\n",
    "from sklearn.linear_model import LogisticRegression\n",
    "from sklearn.model_selection import train_test_split, cross_val_score, cross_validate, GridSearchCV, KFold\n",
    "from sklearn.metrics import confusion_matrix, classification_report\n",
    "from sklearn.preprocessing import StandardScaler\n",
    "\n"
   ]
  },
  {
   "cell_type": "code",
   "execution_count": 2,
   "metadata": {
    "scrolled": true
   },
   "outputs": [
    {
     "data": {
      "text/html": [
       "<div>\n",
       "<style scoped>\n",
       "    .dataframe tbody tr th:only-of-type {\n",
       "        vertical-align: middle;\n",
       "    }\n",
       "\n",
       "    .dataframe tbody tr th {\n",
       "        vertical-align: top;\n",
       "    }\n",
       "\n",
       "    .dataframe thead th {\n",
       "        text-align: right;\n",
       "    }\n",
       "</style>\n",
       "<table border=\"1\" class=\"dataframe\">\n",
       "  <thead>\n",
       "    <tr style=\"text-align: right;\">\n",
       "      <th></th>\n",
       "      <th>brewery_id</th>\n",
       "      <th>brewery_name</th>\n",
       "      <th>review_time</th>\n",
       "      <th>review_overall</th>\n",
       "      <th>review_aroma</th>\n",
       "      <th>review_appearance</th>\n",
       "      <th>review_profilename</th>\n",
       "      <th>beer_style</th>\n",
       "      <th>review_palate</th>\n",
       "      <th>review_taste</th>\n",
       "      <th>beer_name</th>\n",
       "      <th>beer_abv</th>\n",
       "      <th>beer_beerid</th>\n",
       "      <th>type</th>\n",
       "      <th>address</th>\n",
       "      <th>website</th>\n",
       "      <th>state</th>\n",
       "      <th>state_breweries</th>\n",
       "    </tr>\n",
       "  </thead>\n",
       "  <tbody>\n",
       "    <tr>\n",
       "      <th>0</th>\n",
       "      <td>1075</td>\n",
       "      <td>Caldera Brewing Company</td>\n",
       "      <td>1293735206</td>\n",
       "      <td>4.0</td>\n",
       "      <td>4.5</td>\n",
       "      <td>4.0</td>\n",
       "      <td>johnmichaelsen</td>\n",
       "      <td>American Double / Imperial IPA</td>\n",
       "      <td>4.0</td>\n",
       "      <td>4.5</td>\n",
       "      <td>Cauldron DIPA</td>\n",
       "      <td>7.7</td>\n",
       "      <td>64883</td>\n",
       "      <td>Microbrewery</td>\n",
       "      <td>540 Clover Ln., Ashland, Oregon, 97520</td>\n",
       "      <td>http://www.calderabrewing.com/</td>\n",
       "      <td>oregon</td>\n",
       "      <td>156</td>\n",
       "    </tr>\n",
       "    <tr>\n",
       "      <th>1</th>\n",
       "      <td>1075</td>\n",
       "      <td>Caldera Brewing Company</td>\n",
       "      <td>1325524659</td>\n",
       "      <td>3.0</td>\n",
       "      <td>3.5</td>\n",
       "      <td>3.5</td>\n",
       "      <td>oline73</td>\n",
       "      <td>Herbed / Spiced Beer</td>\n",
       "      <td>3.0</td>\n",
       "      <td>3.5</td>\n",
       "      <td>Caldera Ginger Beer</td>\n",
       "      <td>4.7</td>\n",
       "      <td>52159</td>\n",
       "      <td>Microbrewery</td>\n",
       "      <td>540 Clover Ln., Ashland, Oregon, 97520</td>\n",
       "      <td>http://www.calderabrewing.com/</td>\n",
       "      <td>oregon</td>\n",
       "      <td>156</td>\n",
       "    </tr>\n",
       "    <tr>\n",
       "      <th>2</th>\n",
       "      <td>1075</td>\n",
       "      <td>Caldera Brewing Company</td>\n",
       "      <td>1318991115</td>\n",
       "      <td>3.5</td>\n",
       "      <td>3.5</td>\n",
       "      <td>3.5</td>\n",
       "      <td>Reidrover</td>\n",
       "      <td>Herbed / Spiced Beer</td>\n",
       "      <td>4.0</td>\n",
       "      <td>4.0</td>\n",
       "      <td>Caldera Ginger Beer</td>\n",
       "      <td>4.7</td>\n",
       "      <td>52159</td>\n",
       "      <td>Microbrewery</td>\n",
       "      <td>540 Clover Ln., Ashland, Oregon, 97520</td>\n",
       "      <td>http://www.calderabrewing.com/</td>\n",
       "      <td>oregon</td>\n",
       "      <td>156</td>\n",
       "    </tr>\n",
       "    <tr>\n",
       "      <th>3</th>\n",
       "      <td>1075</td>\n",
       "      <td>Caldera Brewing Company</td>\n",
       "      <td>1306276018</td>\n",
       "      <td>3.0</td>\n",
       "      <td>2.5</td>\n",
       "      <td>3.5</td>\n",
       "      <td>alpinebryant</td>\n",
       "      <td>Herbed / Spiced Beer</td>\n",
       "      <td>2.0</td>\n",
       "      <td>3.5</td>\n",
       "      <td>Caldera Ginger Beer</td>\n",
       "      <td>4.7</td>\n",
       "      <td>52159</td>\n",
       "      <td>Microbrewery</td>\n",
       "      <td>540 Clover Ln., Ashland, Oregon, 97520</td>\n",
       "      <td>http://www.calderabrewing.com/</td>\n",
       "      <td>oregon</td>\n",
       "      <td>156</td>\n",
       "    </tr>\n",
       "    <tr>\n",
       "      <th>4</th>\n",
       "      <td>1075</td>\n",
       "      <td>Caldera Brewing Company</td>\n",
       "      <td>1290454503</td>\n",
       "      <td>4.0</td>\n",
       "      <td>3.0</td>\n",
       "      <td>3.5</td>\n",
       "      <td>LordAdmNelson</td>\n",
       "      <td>Herbed / Spiced Beer</td>\n",
       "      <td>3.5</td>\n",
       "      <td>4.0</td>\n",
       "      <td>Caldera Ginger Beer</td>\n",
       "      <td>4.7</td>\n",
       "      <td>52159</td>\n",
       "      <td>Microbrewery</td>\n",
       "      <td>540 Clover Ln., Ashland, Oregon, 97520</td>\n",
       "      <td>http://www.calderabrewing.com/</td>\n",
       "      <td>oregon</td>\n",
       "      <td>156</td>\n",
       "    </tr>\n",
       "  </tbody>\n",
       "</table>\n",
       "</div>"
      ],
      "text/plain": [
       "   brewery_id             brewery_name  review_time  review_overall  \\\n",
       "0        1075  Caldera Brewing Company   1293735206             4.0   \n",
       "1        1075  Caldera Brewing Company   1325524659             3.0   \n",
       "2        1075  Caldera Brewing Company   1318991115             3.5   \n",
       "3        1075  Caldera Brewing Company   1306276018             3.0   \n",
       "4        1075  Caldera Brewing Company   1290454503             4.0   \n",
       "\n",
       "   review_aroma  review_appearance review_profilename  \\\n",
       "0           4.5                4.0     johnmichaelsen   \n",
       "1           3.5                3.5            oline73   \n",
       "2           3.5                3.5          Reidrover   \n",
       "3           2.5                3.5       alpinebryant   \n",
       "4           3.0                3.5      LordAdmNelson   \n",
       "\n",
       "                       beer_style  review_palate  review_taste  \\\n",
       "0  American Double / Imperial IPA            4.0           4.5   \n",
       "1            Herbed / Spiced Beer            3.0           3.5   \n",
       "2            Herbed / Spiced Beer            4.0           4.0   \n",
       "3            Herbed / Spiced Beer            2.0           3.5   \n",
       "4            Herbed / Spiced Beer            3.5           4.0   \n",
       "\n",
       "             beer_name  beer_abv  beer_beerid          type  \\\n",
       "0        Cauldron DIPA       7.7        64883  Microbrewery   \n",
       "1  Caldera Ginger Beer       4.7        52159  Microbrewery   \n",
       "2  Caldera Ginger Beer       4.7        52159  Microbrewery   \n",
       "3  Caldera Ginger Beer       4.7        52159  Microbrewery   \n",
       "4  Caldera Ginger Beer       4.7        52159  Microbrewery   \n",
       "\n",
       "                                  address                         website  \\\n",
       "0  540 Clover Ln., Ashland, Oregon, 97520  http://www.calderabrewing.com/   \n",
       "1  540 Clover Ln., Ashland, Oregon, 97520  http://www.calderabrewing.com/   \n",
       "2  540 Clover Ln., Ashland, Oregon, 97520  http://www.calderabrewing.com/   \n",
       "3  540 Clover Ln., Ashland, Oregon, 97520  http://www.calderabrewing.com/   \n",
       "4  540 Clover Ln., Ashland, Oregon, 97520  http://www.calderabrewing.com/   \n",
       "\n",
       "    state  state_breweries  \n",
       "0  oregon              156  \n",
       "1  oregon              156  \n",
       "2  oregon              156  \n",
       "3  oregon              156  \n",
       "4  oregon              156  "
      ]
     },
     "execution_count": 2,
     "metadata": {},
     "output_type": "execute_result"
    }
   ],
   "source": [
    "df = pd.read_csv(os.path.join(\"..\", \"Resources\", \"beer.csv\"))\n",
    "df.head()"
   ]
  },
  {
   "cell_type": "code",
   "execution_count": 3,
   "metadata": {},
   "outputs": [
    {
     "data": {
      "text/plain": [
       "100"
      ]
     },
     "execution_count": 3,
     "metadata": {},
     "output_type": "execute_result"
    }
   ],
   "source": [
    "df['beer_style'].nunique()"
   ]
  },
  {
   "cell_type": "code",
   "execution_count": 4,
   "metadata": {},
   "outputs": [
    {
     "name": "stdout",
     "output_type": "stream",
     "text": [
      "<class 'pandas.core.frame.DataFrame'>\n",
      "RangeIndex: 361241 entries, 0 to 361240\n",
      "Data columns (total 18 columns):\n",
      " #   Column              Non-Null Count   Dtype  \n",
      "---  ------              --------------   -----  \n",
      " 0   brewery_id          361241 non-null  int64  \n",
      " 1   brewery_name        361241 non-null  object \n",
      " 2   review_time         361241 non-null  int64  \n",
      " 3   review_overall      361241 non-null  float64\n",
      " 4   review_aroma        361241 non-null  float64\n",
      " 5   review_appearance   361241 non-null  float64\n",
      " 6   review_profilename  361241 non-null  object \n",
      " 7   beer_style          361241 non-null  object \n",
      " 8   review_palate       361241 non-null  float64\n",
      " 9   review_taste        361241 non-null  float64\n",
      " 10  beer_name           361241 non-null  object \n",
      " 11  beer_abv            361241 non-null  float64\n",
      " 12  beer_beerid         361241 non-null  int64  \n",
      " 13  type                361241 non-null  object \n",
      " 14  address             361241 non-null  object \n",
      " 15  website             361241 non-null  object \n",
      " 16  state               361241 non-null  object \n",
      " 17  state_breweries     361241 non-null  int64  \n",
      "dtypes: float64(6), int64(4), object(8)\n",
      "memory usage: 49.6+ MB\n"
     ]
    }
   ],
   "source": [
    "df.info()"
   ]
  },
  {
   "cell_type": "code",
   "execution_count": 5,
   "metadata": {},
   "outputs": [
    {
     "data": {
      "text/plain": [
       "4.0    142517\n",
       "4.5     82365\n",
       "3.5     66898\n",
       "3.0     31370\n",
       "5.0     20775\n",
       "2.5      9364\n",
       "2.0      5445\n",
       "1.5      1434\n",
       "1.0      1073\n",
       "Name: review_overall, dtype: int64"
      ]
     },
     "execution_count": 5,
     "metadata": {},
     "output_type": "execute_result"
    }
   ],
   "source": [
    "target = df[\"review_overall\"]\n",
    "\n",
    "target.value_counts()\n",
    "\n",
    "\n",
    "\n"
   ]
  },
  {
   "cell_type": "code",
   "execution_count": 6,
   "metadata": {},
   "outputs": [
    {
     "data": {
      "text/html": [
       "<div>\n",
       "<style scoped>\n",
       "    .dataframe tbody tr th:only-of-type {\n",
       "        vertical-align: middle;\n",
       "    }\n",
       "\n",
       "    .dataframe tbody tr th {\n",
       "        vertical-align: top;\n",
       "    }\n",
       "\n",
       "    .dataframe thead th {\n",
       "        text-align: right;\n",
       "    }\n",
       "</style>\n",
       "<table border=\"1\" class=\"dataframe\">\n",
       "  <thead>\n",
       "    <tr style=\"text-align: right;\">\n",
       "      <th></th>\n",
       "      <th>beer_name</th>\n",
       "      <th>review_aroma</th>\n",
       "      <th>review_appearance</th>\n",
       "      <th>review_palate</th>\n",
       "      <th>review_taste</th>\n",
       "    </tr>\n",
       "  </thead>\n",
       "  <tbody>\n",
       "    <tr>\n",
       "      <th>0</th>\n",
       "      <td>Cauldron DIPA</td>\n",
       "      <td>4.5</td>\n",
       "      <td>4.0</td>\n",
       "      <td>4.0</td>\n",
       "      <td>4.5</td>\n",
       "    </tr>\n",
       "    <tr>\n",
       "      <th>1</th>\n",
       "      <td>Caldera Ginger Beer</td>\n",
       "      <td>3.5</td>\n",
       "      <td>3.5</td>\n",
       "      <td>3.0</td>\n",
       "      <td>3.5</td>\n",
       "    </tr>\n",
       "    <tr>\n",
       "      <th>2</th>\n",
       "      <td>Caldera Ginger Beer</td>\n",
       "      <td>3.5</td>\n",
       "      <td>3.5</td>\n",
       "      <td>4.0</td>\n",
       "      <td>4.0</td>\n",
       "    </tr>\n",
       "    <tr>\n",
       "      <th>3</th>\n",
       "      <td>Caldera Ginger Beer</td>\n",
       "      <td>2.5</td>\n",
       "      <td>3.5</td>\n",
       "      <td>2.0</td>\n",
       "      <td>3.5</td>\n",
       "    </tr>\n",
       "    <tr>\n",
       "      <th>4</th>\n",
       "      <td>Caldera Ginger Beer</td>\n",
       "      <td>3.0</td>\n",
       "      <td>3.5</td>\n",
       "      <td>3.5</td>\n",
       "      <td>4.0</td>\n",
       "    </tr>\n",
       "  </tbody>\n",
       "</table>\n",
       "</div>"
      ],
      "text/plain": [
       "             beer_name  review_aroma  review_appearance  review_palate  \\\n",
       "0        Cauldron DIPA           4.5                4.0            4.0   \n",
       "1  Caldera Ginger Beer           3.5                3.5            3.0   \n",
       "2  Caldera Ginger Beer           3.5                3.5            4.0   \n",
       "3  Caldera Ginger Beer           2.5                3.5            2.0   \n",
       "4  Caldera Ginger Beer           3.0                3.5            3.5   \n",
       "\n",
       "   review_taste  \n",
       "0           4.5  \n",
       "1           3.5  \n",
       "2           4.0  \n",
       "3           3.5  \n",
       "4           4.0  "
      ]
     },
     "execution_count": 6,
     "metadata": {},
     "output_type": "execute_result"
    }
   ],
   "source": [
    "beerme = df.loc[:, ['beer_name', 'review_aroma','review_appearance','review_palate','review_taste']]\n",
    "\n",
    "beerme.head()\n"
   ]
  },
  {
   "cell_type": "code",
   "execution_count": 7,
   "metadata": {},
   "outputs": [
    {
     "data": {
      "text/html": [
       "<div>\n",
       "<style scoped>\n",
       "    .dataframe tbody tr th:only-of-type {\n",
       "        vertical-align: middle;\n",
       "    }\n",
       "\n",
       "    .dataframe tbody tr th {\n",
       "        vertical-align: top;\n",
       "    }\n",
       "\n",
       "    .dataframe thead th {\n",
       "        text-align: right;\n",
       "    }\n",
       "</style>\n",
       "<table border=\"1\" class=\"dataframe\">\n",
       "  <thead>\n",
       "    <tr style=\"text-align: right;\">\n",
       "      <th></th>\n",
       "      <th>beer_name</th>\n",
       "      <th>review_overall</th>\n",
       "    </tr>\n",
       "  </thead>\n",
       "  <tbody>\n",
       "    <tr>\n",
       "      <th>0</th>\n",
       "      <td>Cauldron DIPA</td>\n",
       "      <td>4.0</td>\n",
       "    </tr>\n",
       "    <tr>\n",
       "      <th>1</th>\n",
       "      <td>Caldera Ginger Beer</td>\n",
       "      <td>3.0</td>\n",
       "    </tr>\n",
       "    <tr>\n",
       "      <th>2</th>\n",
       "      <td>Caldera Ginger Beer</td>\n",
       "      <td>3.5</td>\n",
       "    </tr>\n",
       "    <tr>\n",
       "      <th>3</th>\n",
       "      <td>Caldera Ginger Beer</td>\n",
       "      <td>3.0</td>\n",
       "    </tr>\n",
       "    <tr>\n",
       "      <th>4</th>\n",
       "      <td>Caldera Ginger Beer</td>\n",
       "      <td>4.0</td>\n",
       "    </tr>\n",
       "  </tbody>\n",
       "</table>\n",
       "</div>"
      ],
      "text/plain": [
       "             beer_name  review_overall\n",
       "0        Cauldron DIPA             4.0\n",
       "1  Caldera Ginger Beer             3.0\n",
       "2  Caldera Ginger Beer             3.5\n",
       "3  Caldera Ginger Beer             3.0\n",
       "4  Caldera Ginger Beer             4.0"
      ]
     },
     "execution_count": 7,
     "metadata": {},
     "output_type": "execute_result"
    }
   ],
   "source": [
    "beerreview = df.loc[:,['beer_name', 'review_overall']]\n",
    "\n",
    "beerreview.head()"
   ]
  },
  {
   "cell_type": "code",
   "execution_count": 8,
   "metadata": {},
   "outputs": [
    {
     "data": {
      "text/plain": [
       "4.0    141229\n",
       "3.5     85863\n",
       "4.5     66263\n",
       "3.0     38878\n",
       "5.0     13232\n",
       "2.5      9610\n",
       "2.0      4877\n",
       "1.5       850\n",
       "1.0       439\n",
       "Name: review_aroma, dtype: int64"
      ]
     },
     "execution_count": 8,
     "metadata": {},
     "output_type": "execute_result"
    }
   ],
   "source": [
    "df.iloc[:,4].value_counts()"
   ]
  },
  {
   "cell_type": "code",
   "execution_count": 9,
   "metadata": {},
   "outputs": [
    {
     "data": {
      "text/html": [
       "<div>\n",
       "<style scoped>\n",
       "    .dataframe tbody tr th:only-of-type {\n",
       "        vertical-align: middle;\n",
       "    }\n",
       "\n",
       "    .dataframe tbody tr th {\n",
       "        vertical-align: top;\n",
       "    }\n",
       "\n",
       "    .dataframe thead th {\n",
       "        text-align: right;\n",
       "    }\n",
       "</style>\n",
       "<table border=\"1\" class=\"dataframe\">\n",
       "  <thead>\n",
       "    <tr style=\"text-align: right;\">\n",
       "      <th></th>\n",
       "      <th>beer_name</th>\n",
       "      <th>review_aroma</th>\n",
       "    </tr>\n",
       "  </thead>\n",
       "  <tbody>\n",
       "    <tr>\n",
       "      <th>0</th>\n",
       "      <td>Cauldron DIPA</td>\n",
       "      <td>4.5</td>\n",
       "    </tr>\n",
       "    <tr>\n",
       "      <th>1</th>\n",
       "      <td>Caldera Ginger Beer</td>\n",
       "      <td>3.5</td>\n",
       "    </tr>\n",
       "    <tr>\n",
       "      <th>2</th>\n",
       "      <td>Caldera Ginger Beer</td>\n",
       "      <td>3.5</td>\n",
       "    </tr>\n",
       "    <tr>\n",
       "      <th>3</th>\n",
       "      <td>Caldera Ginger Beer</td>\n",
       "      <td>2.5</td>\n",
       "    </tr>\n",
       "    <tr>\n",
       "      <th>4</th>\n",
       "      <td>Caldera Ginger Beer</td>\n",
       "      <td>3.0</td>\n",
       "    </tr>\n",
       "  </tbody>\n",
       "</table>\n",
       "</div>"
      ],
      "text/plain": [
       "             beer_name  review_aroma\n",
       "0        Cauldron DIPA           4.5\n",
       "1  Caldera Ginger Beer           3.5\n",
       "2  Caldera Ginger Beer           3.5\n",
       "3  Caldera Ginger Beer           2.5\n",
       "4  Caldera Ginger Beer           3.0"
      ]
     },
     "execution_count": 9,
     "metadata": {},
     "output_type": "execute_result"
    }
   ],
   "source": [
    "beeraroma = df.loc[:,['beer_name', 'review_aroma']]\n",
    "\n",
    "\n",
    "beeraroma.head()\n",
    "\n"
   ]
  },
  {
   "cell_type": "code",
   "execution_count": 10,
   "metadata": {},
   "outputs": [
    {
     "data": {
      "text/html": [
       "<div>\n",
       "<style scoped>\n",
       "    .dataframe tbody tr th:only-of-type {\n",
       "        vertical-align: middle;\n",
       "    }\n",
       "\n",
       "    .dataframe tbody tr th {\n",
       "        vertical-align: top;\n",
       "    }\n",
       "\n",
       "    .dataframe thead th {\n",
       "        text-align: right;\n",
       "    }\n",
       "</style>\n",
       "<table border=\"1\" class=\"dataframe\">\n",
       "  <thead>\n",
       "    <tr style=\"text-align: right;\">\n",
       "      <th></th>\n",
       "      <th>beer_name</th>\n",
       "      <th>review_appearance</th>\n",
       "    </tr>\n",
       "  </thead>\n",
       "  <tbody>\n",
       "    <tr>\n",
       "      <th>0</th>\n",
       "      <td>Cauldron DIPA</td>\n",
       "      <td>4.0</td>\n",
       "    </tr>\n",
       "    <tr>\n",
       "      <th>1</th>\n",
       "      <td>Caldera Ginger Beer</td>\n",
       "      <td>3.5</td>\n",
       "    </tr>\n",
       "    <tr>\n",
       "      <th>2</th>\n",
       "      <td>Caldera Ginger Beer</td>\n",
       "      <td>3.5</td>\n",
       "    </tr>\n",
       "    <tr>\n",
       "      <th>3</th>\n",
       "      <td>Caldera Ginger Beer</td>\n",
       "      <td>3.5</td>\n",
       "    </tr>\n",
       "    <tr>\n",
       "      <th>4</th>\n",
       "      <td>Caldera Ginger Beer</td>\n",
       "      <td>3.5</td>\n",
       "    </tr>\n",
       "  </tbody>\n",
       "</table>\n",
       "</div>"
      ],
      "text/plain": [
       "             beer_name  review_appearance\n",
       "0        Cauldron DIPA                4.0\n",
       "1  Caldera Ginger Beer                3.5\n",
       "2  Caldera Ginger Beer                3.5\n",
       "3  Caldera Ginger Beer                3.5\n",
       "4  Caldera Ginger Beer                3.5"
      ]
     },
     "execution_count": 10,
     "metadata": {},
     "output_type": "execute_result"
    }
   ],
   "source": [
    "beerappearance = df.loc[:,['beer_name', 'review_appearance']]\n",
    "\n",
    "beerappearance.head()"
   ]
  },
  {
   "cell_type": "code",
   "execution_count": 11,
   "metadata": {},
   "outputs": [
    {
     "data": {
      "text/html": [
       "<div>\n",
       "<style scoped>\n",
       "    .dataframe tbody tr th:only-of-type {\n",
       "        vertical-align: middle;\n",
       "    }\n",
       "\n",
       "    .dataframe tbody tr th {\n",
       "        vertical-align: top;\n",
       "    }\n",
       "\n",
       "    .dataframe thead th {\n",
       "        text-align: right;\n",
       "    }\n",
       "</style>\n",
       "<table border=\"1\" class=\"dataframe\">\n",
       "  <thead>\n",
       "    <tr style=\"text-align: right;\">\n",
       "      <th></th>\n",
       "      <th>beer_name</th>\n",
       "      <th>review_palate</th>\n",
       "    </tr>\n",
       "  </thead>\n",
       "  <tbody>\n",
       "    <tr>\n",
       "      <th>0</th>\n",
       "      <td>Cauldron DIPA</td>\n",
       "      <td>4.0</td>\n",
       "    </tr>\n",
       "    <tr>\n",
       "      <th>1</th>\n",
       "      <td>Caldera Ginger Beer</td>\n",
       "      <td>3.0</td>\n",
       "    </tr>\n",
       "    <tr>\n",
       "      <th>2</th>\n",
       "      <td>Caldera Ginger Beer</td>\n",
       "      <td>4.0</td>\n",
       "    </tr>\n",
       "    <tr>\n",
       "      <th>3</th>\n",
       "      <td>Caldera Ginger Beer</td>\n",
       "      <td>2.0</td>\n",
       "    </tr>\n",
       "    <tr>\n",
       "      <th>4</th>\n",
       "      <td>Caldera Ginger Beer</td>\n",
       "      <td>3.5</td>\n",
       "    </tr>\n",
       "  </tbody>\n",
       "</table>\n",
       "</div>"
      ],
      "text/plain": [
       "             beer_name  review_palate\n",
       "0        Cauldron DIPA            4.0\n",
       "1  Caldera Ginger Beer            3.0\n",
       "2  Caldera Ginger Beer            4.0\n",
       "3  Caldera Ginger Beer            2.0\n",
       "4  Caldera Ginger Beer            3.5"
      ]
     },
     "execution_count": 11,
     "metadata": {},
     "output_type": "execute_result"
    }
   ],
   "source": [
    "beerpalate = df.loc[:,['beer_name', 'review_palate']]\n",
    "\n",
    "beerpalate.head()"
   ]
  },
  {
   "cell_type": "code",
   "execution_count": 12,
   "metadata": {},
   "outputs": [
    {
     "data": {
      "text/html": [
       "<div>\n",
       "<style scoped>\n",
       "    .dataframe tbody tr th:only-of-type {\n",
       "        vertical-align: middle;\n",
       "    }\n",
       "\n",
       "    .dataframe tbody tr th {\n",
       "        vertical-align: top;\n",
       "    }\n",
       "\n",
       "    .dataframe thead th {\n",
       "        text-align: right;\n",
       "    }\n",
       "</style>\n",
       "<table border=\"1\" class=\"dataframe\">\n",
       "  <thead>\n",
       "    <tr style=\"text-align: right;\">\n",
       "      <th></th>\n",
       "      <th>beer_name</th>\n",
       "      <th>review_taste</th>\n",
       "    </tr>\n",
       "  </thead>\n",
       "  <tbody>\n",
       "    <tr>\n",
       "      <th>0</th>\n",
       "      <td>Cauldron DIPA</td>\n",
       "      <td>4.5</td>\n",
       "    </tr>\n",
       "    <tr>\n",
       "      <th>1</th>\n",
       "      <td>Caldera Ginger Beer</td>\n",
       "      <td>3.5</td>\n",
       "    </tr>\n",
       "    <tr>\n",
       "      <th>2</th>\n",
       "      <td>Caldera Ginger Beer</td>\n",
       "      <td>4.0</td>\n",
       "    </tr>\n",
       "    <tr>\n",
       "      <th>3</th>\n",
       "      <td>Caldera Ginger Beer</td>\n",
       "      <td>3.5</td>\n",
       "    </tr>\n",
       "    <tr>\n",
       "      <th>4</th>\n",
       "      <td>Caldera Ginger Beer</td>\n",
       "      <td>4.0</td>\n",
       "    </tr>\n",
       "  </tbody>\n",
       "</table>\n",
       "</div>"
      ],
      "text/plain": [
       "             beer_name  review_taste\n",
       "0        Cauldron DIPA           4.5\n",
       "1  Caldera Ginger Beer           3.5\n",
       "2  Caldera Ginger Beer           4.0\n",
       "3  Caldera Ginger Beer           3.5\n",
       "4  Caldera Ginger Beer           4.0"
      ]
     },
     "execution_count": 12,
     "metadata": {},
     "output_type": "execute_result"
    }
   ],
   "source": [
    "beertaste = df.loc[:,['beer_name', 'review_taste']]\n",
    "\n",
    "beertaste.head()"
   ]
  },
  {
   "cell_type": "code",
   "execution_count": null,
   "metadata": {},
   "outputs": [],
   "source": [
    "beerplot = beerreview[['beer_name','review_overall']]\n",
    "#Visualise data points\n",
    "plt.scatter(beerplot[\"beer_name\"],beerplot[\"review_overall\"],c='black')\n",
    "plt.xlabel('Beer')\n",
    "plt.ylabel('Review')\n",
    "plt.show()"
   ]
  },
  {
   "cell_type": "code",
   "execution_count": null,
   "metadata": {},
   "outputs": [],
   "source": [
    "aromaplot = beeraroma[['beer_name','review_aroma']]\n",
    "#Visualise data points\n",
    "plt.scatter(beeraroma[\"beer_name\"],beerme[\"review_aroma\"],c='black')\n",
    "plt.xlabel('Beer')\n",
    "plt.ylabel('Review')\n",
    "plt.show()"
   ]
  },
  {
   "cell_type": "code",
   "execution_count": null,
   "metadata": {},
   "outputs": [],
   "source": [
    "aromaplot = beerme[['beer_name','review_appearance']]\n",
    "#Visualise data points\n",
    "plt.scatter(beerme[\"beer_name\"],beerme[\"review_appearance\"],c='black')\n",
    "plt.xlabel('Beer')\n",
    "plt.ylabel('Review')\n",
    "plt.show()"
   ]
  },
  {
   "cell_type": "code",
   "execution_count": null,
   "metadata": {},
   "outputs": [],
   "source": [
    "aromaplot = beerme[['beer_name','review_palate']]\n",
    "#Visualise data points\n",
    "plt.scatter(beerme[\"beer_name\"],beerme[\"review_palate\"],c='black')\n",
    "plt.xlabel('Beer')\n",
    "plt.ylabel('Review')\n",
    "plt.show()"
   ]
  },
  {
   "cell_type": "code",
   "execution_count": null,
   "metadata": {},
   "outputs": [],
   "source": [
    "aromaplot = beerme[['beer_name','review_taste']]\n",
    "#Visualise data points\n",
    "plt.scatter(beerme[\"beer_name\"],beerme[\"review_taste\"],c='black')\n",
    "plt.xlabel('Beer')\n",
    "plt.ylabel('Review')\n",
    "plt.show()"
   ]
  },
  {
   "cell_type": "code",
   "execution_count": 13,
   "metadata": {},
   "outputs": [],
   "source": [
    "\n",
    "aromamodel = {\n",
    "    'modelname': 'aromamodel',\n",
    "    'column': 'review_aroma',\n",
    "    'numclusters': 4\n",
    "}\n",
    "\n",
    "appearancemodel = {\n",
    "    'modelname': 'appearancemodel',\n",
    "    'column': 'review_appearance',\n",
    "    'numclusters': 4\n",
    "    \n",
    "}\n",
    "\n",
    "palatemodel = {\n",
    "    'modelname': 'palatemodel',\n",
    "    'column': 'review_palate',\n",
    "    'numclusters': 4\n",
    "}\n",
    "\n",
    "tastemodel = {\n",
    "    'modelname': 'tastemodel',\n",
    "    'column': 'review_taste',\n",
    "    'numclusters': 4\n",
    "}\n",
    "\n"
   ]
  },
  {
   "cell_type": "code",
   "execution_count": 21,
   "metadata": {},
   "outputs": [
    {
     "name": "stdout",
     "output_type": "stream",
     "text": [
      "Initialization complete\n",
      "Iteration 0, inertia 14256.0\n",
      "Iteration 1, inertia 11142.581862995354\n",
      "Converged at iteration 1: strict convergence.\n",
      "Initialization complete\n",
      "Iteration 0, inertia 33529.25\n",
      "Iteration 1, inertia 22515.7817460295\n",
      "Converged at iteration 1: strict convergence.\n",
      "Initialization complete\n",
      "Iteration 0, inertia 14256.0\n",
      "Iteration 1, inertia 11142.581862995354\n",
      "Converged at iteration 1: strict convergence.\n",
      "Initialization complete\n",
      "Iteration 0, inertia 16081.5\n",
      "Iteration 1, inertia 11517.106022576654\n",
      "Converged at iteration 1: strict convergence.\n"
     ]
    }
   ],
   "source": [
    "models = [aromamodel, appearancemodel, palatemodel, tastemodel]\n",
    "y = df.loc[:, 'beer_name']\n",
    "\n",
    "for model in models:\n",
    "\n",
    "    X = np.array(df.loc[:, aromamodel['column']])\n",
    "    X = X.reshape(-1, 1)\n",
    "# X.shape\n",
    "    km = KMeans(n_clusters=4, init='k-means++', max_iter=1000, n_init=1, verbose=2)\n",
    "\n",
    "    km.fit(X)\n"
   ]
  },
  {
   "cell_type": "code",
   "execution_count": null,
   "metadata": {},
   "outputs": [],
   "source": []
  },
  {
   "cell_type": "code",
   "execution_count": null,
   "metadata": {},
   "outputs": [],
   "source": [
    "from sklearn.model_selection import train_test_split\n",
    "target_train, target_test, aroma_train, aroma_test = train_test_split(target, aroma, random_state=42)"
   ]
  },
  {
   "cell_type": "code",
   "execution_count": null,
   "metadata": {},
   "outputs": [],
   "source": [
    "from sklearn.preprocessing import StandardScaler\n",
    "\n",
    "# Create a StandardScater model and fit it to the training data\n",
    "\n",
    "aroma_scaler = StandardScaler().fit(aroma_train)"
   ]
  },
  {
   "cell_type": "code",
   "execution_count": null,
   "metadata": {},
   "outputs": [],
   "source": [
    "target.replace([3.5,3],\"C\",inplace=True)\n",
    "target.replace([4.5,5],\"A\",inplace=True)\n",
    "target.replace([2.5,2,1.5,1],\"D\",inplace=True)\n",
    "target.replace([4],\"B\",inplace=True)"
   ]
  },
  {
   "cell_type": "code",
   "execution_count": null,
   "metadata": {},
   "outputs": [],
   "source": []
  },
  {
   "cell_type": "code",
   "execution_count": null,
   "metadata": {},
   "outputs": [],
   "source": [
    "unused = df.drop([\"review_overall\",\"website\",\"address\",\"brewery_name\", \"brewery_id\", \"review_time\",\"review_profilename\"], axis=1)\n",
    "unused.head()"
   ]
  },
  {
   "cell_type": "code",
   "execution_count": null,
   "metadata": {},
   "outputs": [],
   "source": [
    "target = df[\"review_overall\"]\n",
    "target_names = [\"negative\", \"positive\"]"
   ]
  },
  {
   "cell_type": "code",
   "execution_count": null,
   "metadata": {},
   "outputs": [],
   "source": []
  },
  {
   "cell_type": "code",
   "execution_count": null,
   "metadata": {},
   "outputs": [],
   "source": []
  }
 ],
 "metadata": {
  "kernelspec": {
   "display_name": "Python 3",
   "language": "python",
   "name": "python3"
  },
  "language_info": {
   "codemirror_mode": {
    "name": "ipython",
    "version": 3
   },
   "file_extension": ".py",
   "mimetype": "text/x-python",
   "name": "python",
   "nbconvert_exporter": "python",
   "pygments_lexer": "ipython3",
   "version": "3.8.5"
  }
 },
 "nbformat": 4,
 "nbformat_minor": 5
}
